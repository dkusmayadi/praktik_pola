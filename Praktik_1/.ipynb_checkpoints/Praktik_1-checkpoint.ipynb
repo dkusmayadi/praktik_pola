{
 "cells": [
  {
   "cell_type": "markdown",
   "id": "913d7fe3-0d50-4e9b-bbd3-6aaab31a5018",
   "metadata": {},
   "source": [
    "1. Vektor"
   ]
  },
  {
   "cell_type": "code",
   "execution_count": 1,
   "id": "332a6642-cace-4d34-b9c0-71988d8f8ed5",
   "metadata": {},
   "outputs": [
    {
     "name": "stdout",
     "output_type": "stream",
     "text": [
      "Vektor Default Python\n",
      "\n",
      " \n",
      " vektor via numpy \n",
      "\n",
      "[ 1  2  3  4  5  6  7  8  9 10 11 12 13 14 15 16 17 18 19]\n",
      "[ 1  3  5  7  9 11 13 15 17 19]\n",
      "1\n",
      "(19,)\n"
     ]
    }
   ],
   "source": [
    "#Vektor python numpy with range value\n",
    "import numpy as np\n",
    "print(\"Vektor Default Python\\n\")\n",
    "a = np.arange(1, 20, 1)\n",
    "b = np.arange(1, 20, 2)\n",
    "\n",
    "import numpy as np\n",
    "print(\" \\n vektor via numpy \\n\")\n",
    "\n",
    "#Vektor via numpy\n",
    "c = np.array([1, 2, 3, 4, 5])\n",
    "d = np.array([1.5, 2.5, 5, 6, 7])\n",
    "\n",
    "print(a)\n",
    "print(b)\n",
    "print(a.ndim)\n",
    "print(a.shape)"
   ]
  },
  {
   "cell_type": "markdown",
   "id": "c301859c-2458-49bf-bfe3-2f22b351e8f4",
   "metadata": {},
   "source": [
    "2. Matrix"
   ]
  },
  {
   "cell_type": "code",
   "execution_count": 2,
   "id": "2428d959-aed1-4b39-aecd-9f8e20502859",
   "metadata": {},
   "outputs": [
    {
     "name": "stdout",
     "output_type": "stream",
     "text": [
      "[[ 1  2  3  4  5]\n",
      " [ 6  7  8  9 10]\n",
      " [11 12 13 14 15]\n",
      " [16 17 18 19 20]]\n"
     ]
    }
   ],
   "source": [
    "#Mengubah dari 1D menjadi matrik 2D\n",
    "a = np.arange(1, 21, 1)\n",
    "c = a.reshape((4,5))\n",
    "\n",
    "print(c)"
   ]
  },
  {
   "cell_type": "markdown",
   "id": "5b66d201-7afd-4d1f-82dd-0eec3ce29b4d",
   "metadata": {},
   "source": [
    "3. List"
   ]
  },
  {
   "cell_type": "code",
   "execution_count": 3,
   "id": "d8b21790-8215-43cd-a109-ae183ca30820",
   "metadata": {},
   "outputs": [
    {
     "name": "stdout",
     "output_type": "stream",
     "text": [
      "['apple', 'banana', 'cherry']\n",
      "[1, 5, 7, 9, 3]\n",
      "[True, False, False]\n",
      "['abc', 34, True, 40, 'Male']\n"
     ]
    }
   ],
   "source": [
    "list1 = [\"apple\", \"banana\", \"cherry\"]\n",
    "list2 = [1, 5, 7, 9, 3]\n",
    "list3 = [True, False, False]\n",
    "list4 = [\"abc\", 34, True, 40, \"Male\"]\n",
    "\n",
    "print(list1)\n",
    "print(list2)\n",
    "print(list3)\n",
    "print(list4)\n"
   ]
  },
  {
   "cell_type": "markdown",
   "id": "793b70ef-5ac9-44ee-8fac-8cd9740aa51c",
   "metadata": {},
   "source": [
    "4. DataFrame"
   ]
  },
  {
   "cell_type": "code",
   "execution_count": 4,
   "id": "193554ff-4054-42ab-bf16-f7ea6116422f",
   "metadata": {},
   "outputs": [
    {
     "name": "stdout",
     "output_type": "stream",
     "text": [
      "   a  b  c\n",
      "0  1  2  3\n",
      "1  4  5  6\n",
      "2  7  8  9\n"
     ]
    }
   ],
   "source": [
    "#Data Frame\n",
    "import pandas as pd\n",
    "df = pd.DataFrame(np.array([[1, 2, 3], [4, 5, 6], [7, 8, 9]]), columns = ['a', 'b', 'c'])\n",
    "\n",
    "print(df)"
   ]
  },
  {
   "cell_type": "markdown",
   "id": "ab0a9e3d-6918-4066-91cb-8fe2c5afb22f",
   "metadata": {},
   "source": [
    "Import dan Export Data serta Manipulasinya"
   ]
  },
  {
   "cell_type": "markdown",
   "id": "e78e8873-6f4f-4a0c-819c-dab0a3122482",
   "metadata": {},
   "source": [
    "1. Import Data"
   ]
  },
  {
   "cell_type": "code",
   "execution_count": 5,
   "id": "43ec2539-c075-4373-bc2a-f7b0360df4a9",
   "metadata": {},
   "outputs": [
    {
     "name": "stdout",
     "output_type": "stream",
     "text": [
      "   Nama Pasien  Umur Gender Diagnosa Sakit\n",
      "0         Anto    24      L          Tidak\n",
      "1         Budi    35      L             Ya\n",
      "2          Adi    55      L             Ya\n",
      "3       Delima    32      P             Ya\n",
      "4         Dodi    21      L          Tidak\n",
      "5      Tukiyem    19      P          Tidak\n",
      "6         Rama    23      L          Tidak\n",
      "7        Santi    35      P          Tidak\n",
      "8         Mery    44      P             Ya\n",
      "9        Yanti    27      P          Tidak\n",
      "10       Parto    43      L             Ya\n",
      "11         Dea    24      P          Tidak\n"
     ]
    }
   ],
   "source": [
    "#Membaca data dari file dengan format CSV\n",
    "import pandas as pd\n",
    "data = pd.read_csv(\"Data.csv\", sep = \";\")\n",
    "print(data)"
   ]
  },
  {
   "cell_type": "code",
   "execution_count": 6,
   "id": "b9ed276c-9dda-4e6d-8608-ed334764d514",
   "metadata": {},
   "outputs": [
    {
     "name": "stdout",
     "output_type": "stream",
     "text": [
      "\n",
      " read text data with tab delimiter\n",
      "NamaPasien\tUmur\tGender\tDiagnosa Sakit\n",
      "Anto\t\t24\tL\tTidak\n",
      "Budi\t\t35\tL\tYa\n",
      "Adi\t\t55\tL\tYa\n",
      "Delima\t\t32\tP\tYa\n",
      "Dodi\t\t21\tL\tTidak\n",
      "Tukiyem\t\t19\tP\tTidak\n",
      "Rama\t\t23\tL\tTidak\n",
      "Santi\t\t35\tP\tTidak\n",
      "Mery\t\t44\tP\tYa\n",
      "Yanti\t\t27\tP\tTidak\n",
      "Parto\t\t43\tL\tYa\n",
      "Dea\t\t24\tP\tTidak\n"
     ]
    }
   ],
   "source": [
    "#Membaca data dari file dengan format text (delimiter)\n",
    "print(\"\\n read text data with tab delimiter\")\n",
    "with open ('Data.txt') as data:\n",
    "    print(data.read())"
   ]
  },
  {
   "cell_type": "code",
   "execution_count": 8,
   "id": "46f9906c-fc97-4fe5-a6d3-d9ba36b2f23e",
   "metadata": {},
   "outputs": [
    {
     "name": "stdout",
     "output_type": "stream",
     "text": [
      "         time     40    50     60    70    80    90   100   110   120  ...  \\\n",
      "0     YAL001C -0.070 -0.23 -0.100  0.03 -0.04 -0.12 -0.28 -0.44 -0.09  ...   \n",
      "1     YAL014C  0.215  0.09  0.025 -0.04 -0.04 -0.02 -0.51 -0.08  0.00  ...   \n",
      "2     YAL016W  0.150  0.15  0.220  0.29 -0.10  0.15 -0.73  0.19 -0.15  ...   \n",
      "3     YAL020C -0.350 -0.28 -0.215 -0.15  0.16 -0.12  0.26  0.00  0.13  ...   \n",
      "4     YAL022C -0.415 -0.59 -0.580 -0.57 -0.09 -0.34  0.49  0.32  1.15  ...   \n",
      "...       ...    ...   ...    ...   ...   ...   ...   ...   ...   ...  ...   \n",
      "4376  YPR198W -0.060  0.08  0.210  0.34  0.65 -0.26  0.14 -0.33  0.53  ...   \n",
      "4377  YPR199C  0.155  0.19  0.235  0.28 -0.26  0.21 -0.40  0.34 -0.80  ...   \n",
      "4378  YPR201W -0.255 -0.36 -0.300 -0.24  1.30 -0.07  0.29 -0.20  0.25  ...   \n",
      "4379  YPR203W  0.570  0.12 -0.070 -0.26 -0.44 -0.21 -1.08  0.39 -0.17  ...   \n",
      "4380  YPR204W  0.405  0.17 -0.045 -0.26 -0.60 -0.09 -0.85  0.17 -0.05  ...   \n",
      "\n",
      "       170   180   190   200   210   220   230   240   250    260  \n",
      "0     0.59  0.34 -0.28 -0.09 -0.44  0.31  0.03  0.57  0.00  0.010  \n",
      "1    -0.30 -0.38  0.07 -0.04  0.13 -0.06 -0.26 -0.10  0.27  0.235  \n",
      "2     0.12 -0.17  0.11 -0.15  0.03 -0.26 -0.34 -0.34  0.25  0.190  \n",
      "3     0.07  0.61 -0.20  0.49 -0.43  0.80 -0.47  1.01 -0.36 -0.405  \n",
      "4    -0.48 -0.40 -0.59  0.54 -0.09  1.03  0.08  0.57 -0.26 -0.310  \n",
      "...    ...   ...   ...   ...   ...   ...   ...   ...   ...    ...  \n",
      "4376  0.14 -0.64 -0.26  0.53 -0.17  0.59 -0.96  0.40 -0.23 -0.325  \n",
      "4377  0.34  0.15  0.30 -0.06  0.13 -0.44 -1.03  0.14  0.30  0.250  \n",
      "4378 -0.81  0.89  0.07  1.04 -0.32  0.80 -0.13  0.84 -0.39 -0.415  \n",
      "4379  0.12 -0.96 -0.31 -0.81 -0.34 -1.21 -1.36 -0.12  0.69  0.555  \n",
      "4380  0.17 -1.90 -0.21 -0.45 -0.31 -0.39 -0.22 -0.08  0.65  0.520  \n",
      "\n",
      "[4381 rows x 24 columns]\n"
     ]
    }
   ],
   "source": [
    "#Membaca data dari URL\n",
    "import pandas as pd\n",
    "f = pd.read_csv('http://www.exploredata.net/ftp/Spellman.csv')\n",
    "print(f)"
   ]
  },
  {
   "cell_type": "markdown",
   "id": "36cd94b3-c613-4030-a2de-fe5cdf812b45",
   "metadata": {},
   "source": [
    "Membaca file dan menyajikan dalam bentuk grafik\n",
    "Untuk dapat menyajikan dalam bentuk grafik terlebih dahulu melakukan instalasi paket matplotlib"
   ]
  },
  {
   "cell_type": "code",
   "execution_count": null,
   "id": "7365d4c5-bb21-45f2-ad79-4396cd6dc6f8",
   "metadata": {},
   "outputs": [],
   "source": []
  }
 ],
 "metadata": {
  "kernelspec": {
   "display_name": "Python 3 (ipykernel)",
   "language": "python",
   "name": "python3"
  },
  "language_info": {
   "codemirror_mode": {
    "name": "ipython",
    "version": 3
   },
   "file_extension": ".py",
   "mimetype": "text/x-python",
   "name": "python",
   "nbconvert_exporter": "python",
   "pygments_lexer": "ipython3",
   "version": "3.12.3"
  }
 },
 "nbformat": 4,
 "nbformat_minor": 5
}
